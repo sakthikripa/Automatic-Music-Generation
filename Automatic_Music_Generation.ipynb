{
  "nbformat": 4,
  "nbformat_minor": 0,
  "metadata": {
    "colab": {
      "name": "Automatic_Music_Generation.ipynb",
      "provenance": []
    },
    "kernelspec": {
      "name": "python3",
      "display_name": "Python 3"
    },
    "language_info": {
      "name": "python"
    }
  },
  "cells": [
    {
      "cell_type": "markdown",
      "source": [
        "# Automatic Music Generation"
      ],
      "metadata": {
        "id": "rmTY-MLHSjo1"
      }
    },
    {
      "cell_type": "markdown",
      "source": [
        "### Importing the libraries"
      ],
      "metadata": {
        "id": "AIR-_kdASuBX"
      }
    },
    {
      "cell_type": "code",
      "source": [
        "from music21 import *\n",
        "import os\n",
        "import numpy as np\n",
        "from collections import Counter\n",
        "import matplotlib.pyplot as plt\n",
        "from keras.layers import *\n",
        "from keras.models import *\n",
        "from keras.callbacks import *\n",
        "import keras.backend as K\n",
        "import random\n",
        "from keras.models import load_model\n",
        "from sklearn.model_selection import train_test_split\n",
        "from google.colab import files"
      ],
      "metadata": {
        "id": "aAeiPODbSsxa"
      },
      "execution_count": 1,
      "outputs": []
    },
    {
      "cell_type": "markdown",
      "source": [
        "### Loading the MIDI files"
      ],
      "metadata": {
        "id": "-z0_FD2uTYj1"
      }
    },
    {
      "cell_type": "code",
      "source": [
        "def read_midi(file):\n",
        "    \n",
        "    print(\"Loading Music File:\",file)\n",
        "    \n",
        "    notes=[]\n",
        "    notes_to_parse = None\n",
        "    \n",
        "    #parsing a midi file\n",
        "    midi = converter.parse(file)\n",
        "  \n",
        "    #grouping based on different instruments\n",
        "    s2 = instrument.partitionByInstrument(midi)\n",
        "    #Looping over all the instruments\n",
        "    for part in s2.parts:\n",
        "    \n",
        "        #select elements of only piano\n",
        "        if 'Piano' in str(part): \n",
        "          notes_to_parse = part.recurse() \n",
        "          #finding whether a particular element is note or a chord\n",
        "          for element in notes_to_parse:\n",
        "            if isinstance(element, note.Note):\n",
        "                    notes.append(str(element.pitch))\n",
        "                \n",
        "                #chord\n",
        "            elif isinstance(element, chord.Chord):\n",
        "                    notes.append('.'.join(str(n) for n in element.normalOrder))\n",
        "\n",
        "    return np.array(notes)"
      ],
      "metadata": {
        "id": "kBuGKUqYTXQu"
      },
      "execution_count": 2,
      "outputs": []
    },
    {
      "cell_type": "code",
      "source": [
        "#specify the path\n",
        "path='/'\n",
        "\n",
        "#read all the filenames\n",
        "files=[i for i in os.listdir(path) if i.endswith(\".mid\")]\n",
        "\n",
        "#reading each midi file\n",
        "notes_array = np.array([read_midi(path+i) for i in files])\n"
      ],
      "metadata": {
        "id": "ciaDLr4UT0hc",
        "colab": {
          "base_uri": "https://localhost:8080/"
        },
        "outputId": "4565dcda-75c3-4df4-b902-0b30b5b06fc8"
      },
      "execution_count": 3,
      "outputs": [
        {
          "output_type": "stream",
          "name": "stdout",
          "text": [
            "Loading Music File: /midi_songs_Cids.mid\n",
            "Loading Music File: /midi_songs_traitor.mid\n",
            "Loading Music File: /midi_songs_Ff4-BattleLust.mid\n",
            "Loading Music File: /midi_songs_ultros.mid\n",
            "Loading Music File: /midi_songs_Final_Fantasy_7_-_Judgement_Day_Piano.mid\n",
            "Loading Music File: /midi_songs_ff4-town.mid\n",
            "Loading Music File: /midi_songs_Final_Fantasy_Matouyas_Cave_Piano.mid\n",
            "Loading Music File: /midi_songs_Gold_Silver_Rival_Battle.mid\n",
            "Loading Music File: /midi_songs_In_Zanarkand.mid\n",
            "Loading Music File: /midi_songs_Life_Stream.mid\n",
            "Loading Music File: /midi_songs_goldsaucer.mid\n",
            "Loading Music File: /midi_songs_Rydia_pc.mid\n",
            "Loading Music File: /midi_songs_FF3_Battle_(Piano).mid\n",
            "Loading Music File: /midi_songs_FFIII_Edgar_And_Sabin_Piano.mid\n",
            "Loading Music File: /midi_songs_thenightmarebegins.mid\n",
            "Loading Music File: /midi_songs_tifap.mid\n",
            "Loading Music File: /midi_songs_FF4.mid\n",
            "Loading Music File: /midi_songs_FF3_Third_Phase_Final_(Piano).mid\n"
          ]
        },
        {
          "output_type": "stream",
          "name": "stderr",
          "text": [
            "/usr/local/lib/python3.7/dist-packages/ipykernel_launcher.py:8: VisibleDeprecationWarning: Creating an ndarray from ragged nested sequences (which is a list-or-tuple of lists-or-tuples-or ndarrays with different lengths or shapes) is deprecated. If you meant to do this, you must specify 'dtype=object' when creating the ndarray\n",
            "  \n"
          ]
        }
      ]
    },
    {
      "cell_type": "markdown",
      "source": [
        "### Understanding the data"
      ],
      "metadata": {
        "id": "TKexHyY6UtmA"
      }
    },
    {
      "cell_type": "code",
      "source": [
        "#converting 2D array into 1D array\n",
        "notes_ = [element for note_ in notes_array for element in note_]\n",
        "\n",
        "#No. of unique notes\n",
        "unique_notes = list(set(notes_))\n",
        "print(len(unique_notes))"
      ],
      "metadata": {
        "colab": {
          "base_uri": "https://localhost:8080/"
        },
        "id": "6Ix4a5h3Us0Y",
        "outputId": "3d7a3bc7-6431-4771-df36-5eb85d6fe8a7"
      },
      "execution_count": 4,
      "outputs": [
        {
          "output_type": "stream",
          "name": "stdout",
          "text": [
            "227\n"
          ]
        }
      ]
    },
    {
      "cell_type": "markdown",
      "source": [
        "Looking at the distribution of notes"
      ],
      "metadata": {
        "id": "5XWFzLtH_ieG"
      }
    },
    {
      "cell_type": "code",
      "source": [
        "#computing frequency of each note\n",
        "freq = dict(Counter(notes_))\n",
        "\n",
        "#consider only the frequencies\n",
        "no=[count for _,count in freq.items()]\n",
        "\n",
        "#set the figure size\n",
        "plt.figure(figsize=(5,5))\n",
        "\n",
        "#plot\n",
        "plt.hist(no)"
      ],
      "metadata": {
        "colab": {
          "base_uri": "https://localhost:8080/",
          "height": 387
        },
        "id": "1v423YmjbBCI",
        "outputId": "1e7493c5-6ac3-4c4b-9af6-34828594e455"
      },
      "execution_count": 5,
      "outputs": [
        {
          "output_type": "execute_result",
          "data": {
            "text/plain": [
              "(array([166.,  13.,   9.,   9.,  14.,  10.,   3.,   1.,   0.,   2.]),\n",
              " array([  1. ,  42.7,  84.4, 126.1, 167.8, 209.5, 251.2, 292.9, 334.6,\n",
              "        376.3, 418. ]),\n",
              " <a list of 10 Patch objects>)"
            ]
          },
          "metadata": {},
          "execution_count": 5
        },
        {
          "output_type": "display_data",
          "data": {
            "image/png": "[encoded data removed]",
            "text/plain": [
              "<Figure size 360x360 with 1 Axes>"
            ]
          },
          "metadata": {
            "image/png": {
              "width": 319,
              "height": 302
            },
            "needs_background": "light"
          }
        }
      ]
    },
    {
      "cell_type": "markdown",
      "source": [
        "Since there are a lot of low frequency notes we remove them using the condition frequency > 50. It can be changed as per required."
      ],
      "metadata": {
        "id": "rmYK8aMqBEub"
      }
    },
    {
      "cell_type": "code",
      "source": [
        "frequent_notes = [note_ for note_, count in freq.items() if count>=50]\n",
        "print(len(frequent_notes))"
      ],
      "metadata": {
        "colab": {
          "base_uri": "https://localhost:8080/"
        },
        "id": "IeM79h-MbRwp",
        "outputId": "e8aa07ea-b49f-49fa-89d6-2a2a22d37e12"
      },
      "execution_count": 6,
      "outputs": [
        {
          "output_type": "stream",
          "name": "stdout",
          "text": [
            "56\n"
          ]
        }
      ]
    },
    {
      "cell_type": "code",
      "source": [
        "# New file with filtered notes\n",
        "new_music=[]\n",
        "\n",
        "for notes in notes_array:\n",
        "    temp=[]\n",
        "    for note_ in notes:\n",
        "        if note_ in frequent_notes:\n",
        "            temp.append(note_)            \n",
        "    new_music.append(temp)\n",
        "    \n",
        "new_music = np.array(new_music)"
      ],
      "metadata": {
        "colab": {
          "base_uri": "https://localhost:8080/"
        },
        "id": "gmV9JXVqbbs3",
        "outputId": "ca5a6394-9c73-4a5b-fd42-f92b18ee0db8"
      },
      "execution_count": 7,
      "outputs": [
        {
          "output_type": "stream",
          "name": "stderr",
          "text": [
            "/usr/local/lib/python3.7/dist-packages/ipykernel_launcher.py:11: VisibleDeprecationWarning: Creating an ndarray from ragged nested sequences (which is a list-or-tuple of lists-or-tuples-or ndarrays with different lengths or shapes) is deprecated. If you meant to do this, you must specify 'dtype=object' when creating the ndarray\n",
            "  # This is added back by InteractiveShellApp.init_path()\n"
          ]
        }
      ]
    },
    {
      "cell_type": "markdown",
      "source": [
        "### Preparing the data"
      ],
      "metadata": {
        "id": "sszselBJbgCI"
      }
    },
    {
      "cell_type": "code",
      "source": [
        "no_of_timesteps = 32\n",
        "x = []\n",
        "y = []\n",
        "\n",
        "for note_ in new_music:\n",
        "    for i in range(0, len(note_) - no_of_timesteps, 1):\n",
        "        \n",
        "        #preparing input and output sequences\n",
        "        input_ = note_[i:i + no_of_timesteps]\n",
        "        output = note_[i + no_of_timesteps]\n",
        "        \n",
        "        x.append(input_)\n",
        "        y.append(output)\n",
        "        \n",
        "x=np.array(x)\n",
        "y=np.array(y)"
      ],
      "metadata": {
        "id": "kipGZCj1biNz"
      },
      "execution_count": 8,
      "outputs": []
    },
    {
      "cell_type": "code",
      "source": [
        "unique_x = list(set(x.ravel()))\n",
        "x_note_to_int = dict((note_, number) for number, note_ in enumerate(unique_x))"
      ],
      "metadata": {
        "id": "TVZHa1Vcbp3b"
      },
      "execution_count": 9,
      "outputs": []
    },
    {
      "cell_type": "code",
      "source": [
        "#preparing input sequences\n",
        "x_seq=[]\n",
        "for i in x:\n",
        "    temp=[]\n",
        "    for j in i:\n",
        "        #assigning unique integer to every note\n",
        "        temp.append(x_note_to_int[j])\n",
        "    x_seq.append(temp)\n",
        "    \n",
        "x_seq = np.array(x_seq)"
      ],
      "metadata": {
        "id": "nD5dzVh0buls"
      },
      "execution_count": 10,
      "outputs": []
    },
    {
      "cell_type": "code",
      "source": [
        "unique_y = list(set(y))\n",
        "y_note_to_int = dict((note_, number) for number, note_ in enumerate(unique_y)) \n",
        "y_seq=np.array([y_note_to_int[i] for i in y])"
      ],
      "metadata": {
        "id": "UpYC8dvlbyEs"
      },
      "execution_count": 11,
      "outputs": []
    },
    {
      "cell_type": "markdown",
      "source": [
        "Train test split - 80/20"
      ],
      "metadata": {
        "id": "9pNvtTLNFhKa"
      }
    },
    {
      "cell_type": "code",
      "source": [
        "x_tr, x_val, y_tr, y_val = train_test_split(x_seq,y_seq,test_size=0.2,random_state=0)"
      ],
      "metadata": {
        "id": "FAiEKakjb10z"
      },
      "execution_count": 12,
      "outputs": []
    },
    {
      "cell_type": "markdown",
      "source": [
        "### Model Building"
      ],
      "metadata": {
        "id": "DhlH1p4fb8mc"
      }
    },
    {
      "cell_type": "markdown",
      "source": [
        "Model following Wavenet architecture"
      ],
      "metadata": {
        "id": "PTY_-4X0Gosz"
      }
    },
    {
      "cell_type": "code",
      "source": [
        "K.clear_session()\n",
        "model = Sequential()\n",
        "    \n",
        "#embedding layer\n",
        "model.add(Embedding(len(unique_x), 100, input_length=32,trainable=True)) \n",
        "\n",
        "model.add(Conv1D(64,3, padding='causal',activation='relu'))\n",
        "model.add(Dropout(0.2))\n",
        "model.add(MaxPool1D(2))\n",
        "    \n",
        "model.add(Conv1D(128,3,activation='relu',dilation_rate=2,padding='causal'))\n",
        "model.add(Dropout(0.2))\n",
        "model.add(MaxPool1D(2))\n",
        "\n",
        "model.add(Conv1D(256,3,activation='relu',dilation_rate=4,padding='causal'))\n",
        "model.add(Dropout(0.2))\n",
        "model.add(MaxPool1D(2))\n",
        "          \n",
        "#model.add(Conv1D(256,5,activation='relu'))    \n",
        "model.add(GlobalMaxPool1D())\n",
        "\n",
        "model.add(Dense(256, activation='relu'))\n",
        "model.add(Dense(len(unique_y), activation='softmax'))\n",
        "    \n",
        "model.compile(loss='sparse_categorical_crossentropy', optimizer='adam')\n",
        "\n",
        "model.summary()"
      ],
      "metadata": {
        "colab": {
          "base_uri": "https://localhost:8080/"
        },
        "id": "EKHNzEe3cCxF",
        "outputId": "82ba0e79-97f6-499a-f740-5b8a7fbd4dbc"
      },
      "execution_count": 13,
      "outputs": [
        {
          "output_type": "stream",
          "name": "stdout",
          "text": [
            "Model: \"sequential\"\n",
            "_________________________________________________________________\n",
            " Layer (type)                Output Shape              Param #   \n",
            "=================================================================\n",
            " embedding (Embedding)       (None, 32, 100)           5600      \n",
            "                                                                 \n",
            " conv1d (Conv1D)             (None, 32, 64)            19264     \n",
            "                                                                 \n",
            " dropout (Dropout)           (None, 32, 64)            0         \n",
            "                                                                 \n",
            " max_pooling1d (MaxPooling1D  (None, 16, 64)           0         \n",
            " )                                                               \n",
            "                                                                 \n",
            " conv1d_1 (Conv1D)           (None, 16, 128)           24704     \n",
            "                                                                 \n",
            " dropout_1 (Dropout)         (None, 16, 128)           0         \n",
            "                                                                 \n",
            " max_pooling1d_1 (MaxPooling  (None, 8, 128)           0         \n",
            " 1D)                                                             \n",
            "                                                                 \n",
            " conv1d_2 (Conv1D)           (None, 8, 256)            98560     \n",
            "                                                                 \n",
            " dropout_2 (Dropout)         (None, 8, 256)            0         \n",
            "                                                                 \n",
            " max_pooling1d_2 (MaxPooling  (None, 4, 256)           0         \n",
            " 1D)                                                             \n",
            "                                                                 \n",
            " global_max_pooling1d (Globa  (None, 256)              0         \n",
            " lMaxPooling1D)                                                  \n",
            "                                                                 \n",
            " dense (Dense)               (None, 256)               65792     \n",
            "                                                                 \n",
            " dense_1 (Dense)             (None, 56)                14392     \n",
            "                                                                 \n",
            "=================================================================\n",
            "Total params: 228,312\n",
            "Trainable params: 228,312\n",
            "Non-trainable params: 0\n",
            "_________________________________________________________________\n"
          ]
        }
      ]
    },
    {
      "cell_type": "code",
      "source": [
        "# Saving only the best model using callback\n",
        "mc=ModelCheckpoint('best_model.h5', monitor='val_loss', mode='min', save_best_only=True,verbose=1)"
      ],
      "metadata": {
        "id": "uVLDfgoZcKWy"
      },
      "execution_count": 14,
      "outputs": []
    },
    {
      "cell_type": "code",
      "source": [
        "# Training the model with 50 epochs and batch size 128\n",
        "history = model.fit(np.array(x_tr),np.array(y_tr),batch_size=128,\n",
        "                    epochs=50, validation_data=(np.array(x_val),np.array(y_val)),verbose=1, callbacks=[mc])"
      ],
      "metadata": {
        "colab": {
          "base_uri": "https://localhost:8080/"
        },
        "id": "fBnF7TtVcOdp",
        "outputId": "5dffc275-a4dc-48a7-eb6f-0c067150a804"
      },
      "execution_count": 15,
      "outputs": [
        {
          "output_type": "stream",
          "name": "stdout",
          "text": [
            "Epoch 1/50\n",
            "56/57 [============================>.] - ETA: 0s - loss: 3.8874\n",
            "Epoch 00001: val_loss improved from inf to 3.78083, saving model to best_model.h5\n",
            "57/57 [==============================] - 11s 149ms/step - loss: 3.8870 - val_loss: 3.7808\n",
            "Epoch 2/50\n",
            "56/57 [============================>.] - ETA: 0s - loss: 3.6225\n",
            "Epoch 00002: val_loss improved from 3.78083 to 3.52027, saving model to best_model.h5\n",
            "57/57 [==============================] - 5s 85ms/step - loss: 3.6220 - val_loss: 3.5203\n",
            "Epoch 3/50\n",
            "56/57 [============================>.] - ETA: 0s - loss: 3.3494\n",
            "Epoch 00003: val_loss improved from 3.52027 to 3.36373, saving model to best_model.h5\n",
            "57/57 [==============================] - 5s 85ms/step - loss: 3.3482 - val_loss: 3.3637\n",
            "Epoch 4/50\n",
            "56/57 [============================>.] - ETA: 0s - loss: 3.1874\n",
            "Epoch 00004: val_loss improved from 3.36373 to 3.27956, saving model to best_model.h5\n",
            "57/57 [==============================] - 5s 87ms/step - loss: 3.1857 - val_loss: 3.2796\n",
            "Epoch 5/50\n",
            "56/57 [============================>.] - ETA: 0s - loss: 3.0645\n",
            "Epoch 00005: val_loss improved from 3.27956 to 3.17647, saving model to best_model.h5\n",
            "57/57 [==============================] - 5s 86ms/step - loss: 3.0636 - val_loss: 3.1765\n",
            "Epoch 6/50\n",
            "56/57 [============================>.] - ETA: 0s - loss: 2.9808\n",
            "Epoch 00006: val_loss improved from 3.17647 to 3.11243, saving model to best_model.h5\n",
            "57/57 [==============================] - 5s 86ms/step - loss: 2.9801 - val_loss: 3.1124\n",
            "Epoch 7/50\n",
            "56/57 [============================>.] - ETA: 0s - loss: 2.8983\n",
            "Epoch 00007: val_loss improved from 3.11243 to 3.04380, saving model to best_model.h5\n",
            "57/57 [==============================] - 5s 87ms/step - loss: 2.8994 - val_loss: 3.0438\n",
            "Epoch 8/50\n",
            "56/57 [============================>.] - ETA: 0s - loss: 2.8381\n",
            "Epoch 00008: val_loss improved from 3.04380 to 3.02136, saving model to best_model.h5\n",
            "57/57 [==============================] - 5s 86ms/step - loss: 2.8378 - val_loss: 3.0214\n",
            "Epoch 9/50\n",
            "56/57 [============================>.] - ETA: 0s - loss: 2.7710\n",
            "Epoch 00009: val_loss improved from 3.02136 to 2.95408, saving model to best_model.h5\n",
            "57/57 [==============================] - 5s 86ms/step - loss: 2.7711 - val_loss: 2.9541\n",
            "Epoch 10/50\n",
            "56/57 [============================>.] - ETA: 0s - loss: 2.7011\n",
            "Epoch 00010: val_loss improved from 2.95408 to 2.93668, saving model to best_model.h5\n",
            "57/57 [==============================] - 5s 86ms/step - loss: 2.7026 - val_loss: 2.9367\n",
            "Epoch 11/50\n",
            "56/57 [============================>.] - ETA: 0s - loss: 2.6577\n",
            "Epoch 00011: val_loss improved from 2.93668 to 2.86442, saving model to best_model.h5\n",
            "57/57 [==============================] - 5s 87ms/step - loss: 2.6584 - val_loss: 2.8644\n",
            "Epoch 12/50\n",
            "56/57 [============================>.] - ETA: 0s - loss: 2.5940\n",
            "Epoch 00012: val_loss improved from 2.86442 to 2.86123, saving model to best_model.h5\n",
            "57/57 [==============================] - 5s 87ms/step - loss: 2.5937 - val_loss: 2.8612\n",
            "Epoch 13/50\n",
            "56/57 [============================>.] - ETA: 0s - loss: 2.5463\n",
            "Epoch 00013: val_loss improved from 2.86123 to 2.79378, saving model to best_model.h5\n",
            "57/57 [==============================] - 5s 86ms/step - loss: 2.5486 - val_loss: 2.7938\n",
            "Epoch 14/50\n",
            "56/57 [============================>.] - ETA: 0s - loss: 2.5003\n",
            "Epoch 00014: val_loss did not improve from 2.79378\n",
            "57/57 [==============================] - 5s 87ms/step - loss: 2.5007 - val_loss: 2.7951\n",
            "Epoch 15/50\n",
            "56/57 [============================>.] - ETA: 0s - loss: 2.4507\n",
            "Epoch 00015: val_loss improved from 2.79378 to 2.75043, saving model to best_model.h5\n",
            "57/57 [==============================] - 5s 87ms/step - loss: 2.4497 - val_loss: 2.7504\n",
            "Epoch 16/50\n",
            "56/57 [============================>.] - ETA: 0s - loss: 2.3894\n",
            "Epoch 00016: val_loss improved from 2.75043 to 2.69791, saving model to best_model.h5\n",
            "57/57 [==============================] - 5s 86ms/step - loss: 2.3886 - val_loss: 2.6979\n",
            "Epoch 17/50\n",
            "56/57 [============================>.] - ETA: 0s - loss: 2.3549\n",
            "Epoch 00017: val_loss improved from 2.69791 to 2.67823, saving model to best_model.h5\n",
            "57/57 [==============================] - 5s 87ms/step - loss: 2.3556 - val_loss: 2.6782\n",
            "Epoch 18/50\n",
            "56/57 [============================>.] - ETA: 0s - loss: 2.2941\n",
            "Epoch 00018: val_loss improved from 2.67823 to 2.63453, saving model to best_model.h5\n",
            "57/57 [==============================] - 7s 116ms/step - loss: 2.2940 - val_loss: 2.6345\n",
            "Epoch 19/50\n",
            "56/57 [============================>.] - ETA: 0s - loss: 2.2473\n",
            "Epoch 00019: val_loss improved from 2.63453 to 2.60968, saving model to best_model.h5\n",
            "57/57 [==============================] - 5s 88ms/step - loss: 2.2466 - val_loss: 2.6097\n",
            "Epoch 20/50\n",
            "56/57 [============================>.] - ETA: 0s - loss: 2.2019\n",
            "Epoch 00020: val_loss improved from 2.60968 to 2.56138, saving model to best_model.h5\n",
            "57/57 [==============================] - 5s 88ms/step - loss: 2.2026 - val_loss: 2.5614\n",
            "Epoch 21/50\n",
            "56/57 [============================>.] - ETA: 0s - loss: 2.1528\n",
            "Epoch 00021: val_loss improved from 2.56138 to 2.55593, saving model to best_model.h5\n",
            "57/57 [==============================] - 5s 87ms/step - loss: 2.1520 - val_loss: 2.5559\n",
            "Epoch 22/50\n",
            "56/57 [============================>.] - ETA: 0s - loss: 2.1255\n",
            "Epoch 00022: val_loss improved from 2.55593 to 2.50209, saving model to best_model.h5\n",
            "57/57 [==============================] - 5s 86ms/step - loss: 2.1267 - val_loss: 2.5021\n",
            "Epoch 23/50\n",
            "56/57 [============================>.] - ETA: 0s - loss: 2.0690\n",
            "Epoch 00023: val_loss improved from 2.50209 to 2.45267, saving model to best_model.h5\n",
            "57/57 [==============================] - 5s 87ms/step - loss: 2.0689 - val_loss: 2.4527\n",
            "Epoch 24/50\n",
            "56/57 [============================>.] - ETA: 0s - loss: 2.0413\n",
            "Epoch 00024: val_loss improved from 2.45267 to 2.43329, saving model to best_model.h5\n",
            "57/57 [==============================] - 5s 87ms/step - loss: 2.0421 - val_loss: 2.4333\n",
            "Epoch 25/50\n",
            "56/57 [============================>.] - ETA: 0s - loss: 1.9745\n",
            "Epoch 00025: val_loss did not improve from 2.43329\n",
            "57/57 [==============================] - 5s 86ms/step - loss: 1.9743 - val_loss: 2.4438\n",
            "Epoch 26/50\n",
            "56/57 [============================>.] - ETA: 0s - loss: 1.9407\n",
            "Epoch 00026: val_loss improved from 2.43329 to 2.41623, saving model to best_model.h5\n",
            "57/57 [==============================] - 5s 87ms/step - loss: 1.9404 - val_loss: 2.4162\n",
            "Epoch 27/50\n",
            "56/57 [============================>.] - ETA: 0s - loss: 1.8971\n",
            "Epoch 00027: val_loss improved from 2.41623 to 2.35732, saving model to best_model.h5\n",
            "57/57 [==============================] - 5s 88ms/step - loss: 1.8985 - val_loss: 2.3573\n",
            "Epoch 28/50\n",
            "56/57 [============================>.] - ETA: 0s - loss: 1.8702\n",
            "Epoch 00028: val_loss improved from 2.35732 to 2.34682, saving model to best_model.h5\n",
            "57/57 [==============================] - 5s 87ms/step - loss: 1.8696 - val_loss: 2.3468\n",
            "Epoch 29/50\n",
            "56/57 [============================>.] - ETA: 0s - loss: 1.8220\n",
            "Epoch 00029: val_loss improved from 2.34682 to 2.31264, saving model to best_model.h5\n",
            "57/57 [==============================] - 5s 87ms/step - loss: 1.8224 - val_loss: 2.3126\n",
            "Epoch 30/50\n",
            "56/57 [============================>.] - ETA: 0s - loss: 1.7856\n",
            "Epoch 00030: val_loss did not improve from 2.31264\n",
            "57/57 [==============================] - 5s 87ms/step - loss: 1.7869 - val_loss: 2.3242\n",
            "Epoch 31/50\n",
            "56/57 [============================>.] - ETA: 0s - loss: 1.7590\n",
            "Epoch 00031: val_loss improved from 2.31264 to 2.26975, saving model to best_model.h5\n",
            "57/57 [==============================] - 5s 89ms/step - loss: 1.7594 - val_loss: 2.2698\n",
            "Epoch 32/50\n",
            "56/57 [============================>.] - ETA: 0s - loss: 1.7175\n",
            "Epoch 00032: val_loss improved from 2.26975 to 2.22911, saving model to best_model.h5\n",
            "57/57 [==============================] - 5s 89ms/step - loss: 1.7181 - val_loss: 2.2291\n",
            "Epoch 33/50\n",
            "56/57 [============================>.] - ETA: 0s - loss: 1.6840\n",
            "Epoch 00033: val_loss did not improve from 2.22911\n",
            "57/57 [==============================] - 5s 87ms/step - loss: 1.6848 - val_loss: 2.2465\n",
            "Epoch 34/50\n",
            "56/57 [============================>.] - ETA: 0s - loss: 1.6499\n",
            "Epoch 00034: val_loss improved from 2.22911 to 2.20509, saving model to best_model.h5\n",
            "57/57 [==============================] - 5s 89ms/step - loss: 1.6512 - val_loss: 2.2051\n",
            "Epoch 35/50\n",
            "56/57 [============================>.] - ETA: 0s - loss: 1.6253\n",
            "Epoch 00035: val_loss improved from 2.20509 to 2.20325, saving model to best_model.h5\n",
            "57/57 [==============================] - 5s 87ms/step - loss: 1.6243 - val_loss: 2.2032\n",
            "Epoch 36/50\n",
            "56/57 [============================>.] - ETA: 0s - loss: 1.5917\n",
            "Epoch 00036: val_loss improved from 2.20325 to 2.18149, saving model to best_model.h5\n",
            "57/57 [==============================] - 5s 85ms/step - loss: 1.5921 - val_loss: 2.1815\n",
            "Epoch 37/50\n",
            "56/57 [============================>.] - ETA: 0s - loss: 1.5587\n",
            "Epoch 00037: val_loss improved from 2.18149 to 2.15409, saving model to best_model.h5\n",
            "57/57 [==============================] - 5s 86ms/step - loss: 1.5591 - val_loss: 2.1541\n",
            "Epoch 38/50\n",
            "56/57 [============================>.] - ETA: 0s - loss: 1.5350\n",
            "Epoch 00038: val_loss improved from 2.15409 to 2.13904, saving model to best_model.h5\n",
            "57/57 [==============================] - 5s 85ms/step - loss: 1.5362 - val_loss: 2.1390\n",
            "Epoch 39/50\n",
            "56/57 [============================>.] - ETA: 0s - loss: 1.5157\n",
            "Epoch 00039: val_loss improved from 2.13904 to 2.10580, saving model to best_model.h5\n",
            "57/57 [==============================] - 5s 85ms/step - loss: 1.5145 - val_loss: 2.1058\n",
            "Epoch 40/50\n",
            "56/57 [============================>.] - ETA: 0s - loss: 1.4972\n",
            "Epoch 00040: val_loss did not improve from 2.10580\n",
            "57/57 [==============================] - 5s 86ms/step - loss: 1.4970 - val_loss: 2.1156\n",
            "Epoch 41/50\n",
            "56/57 [============================>.] - ETA: 0s - loss: 1.4494\n",
            "Epoch 00041: val_loss improved from 2.10580 to 2.10322, saving model to best_model.h5\n",
            "57/57 [==============================] - 5s 86ms/step - loss: 1.4485 - val_loss: 2.1032\n",
            "Epoch 42/50\n",
            "56/57 [============================>.] - ETA: 0s - loss: 1.4381\n",
            "Epoch 00042: val_loss improved from 2.10322 to 2.06989, saving model to best_model.h5\n",
            "57/57 [==============================] - 5s 86ms/step - loss: 1.4378 - val_loss: 2.0699\n",
            "Epoch 43/50\n",
            "56/57 [============================>.] - ETA: 0s - loss: 1.4157\n",
            "Epoch 00043: val_loss improved from 2.06989 to 2.06124, saving model to best_model.h5\n",
            "57/57 [==============================] - 5s 86ms/step - loss: 1.4149 - val_loss: 2.0612\n",
            "Epoch 44/50\n",
            "56/57 [============================>.] - ETA: 0s - loss: 1.3762\n",
            "Epoch 00044: val_loss improved from 2.06124 to 2.03634, saving model to best_model.h5\n",
            "57/57 [==============================] - 5s 87ms/step - loss: 1.3754 - val_loss: 2.0363\n",
            "Epoch 45/50\n",
            "56/57 [============================>.] - ETA: 0s - loss: 1.3595\n",
            "Epoch 00045: val_loss did not improve from 2.03634\n",
            "57/57 [==============================] - 5s 86ms/step - loss: 1.3586 - val_loss: 2.0414\n",
            "Epoch 46/50\n",
            "56/57 [============================>.] - ETA: 0s - loss: 1.3341\n",
            "Epoch 00046: val_loss did not improve from 2.03634\n",
            "57/57 [==============================] - 5s 85ms/step - loss: 1.3322 - val_loss: 2.0486\n",
            "Epoch 47/50\n",
            "56/57 [============================>.] - ETA: 0s - loss: 1.3344\n",
            "Epoch 00047: val_loss improved from 2.03634 to 2.01611, saving model to best_model.h5\n",
            "57/57 [==============================] - 5s 88ms/step - loss: 1.3344 - val_loss: 2.0161\n",
            "Epoch 48/50\n",
            "56/57 [============================>.] - ETA: 0s - loss: 1.2976\n",
            "Epoch 00048: val_loss improved from 2.01611 to 1.99086, saving model to best_model.h5\n",
            "57/57 [==============================] - 5s 87ms/step - loss: 1.2978 - val_loss: 1.9909\n",
            "Epoch 49/50\n",
            "56/57 [============================>.] - ETA: 0s - loss: 1.2968\n",
            "Epoch 00049: val_loss did not improve from 1.99086\n",
            "57/57 [==============================] - 5s 86ms/step - loss: 1.2967 - val_loss: 2.0184\n",
            "Epoch 50/50\n",
            "56/57 [============================>.] - ETA: 0s - loss: 1.2656\n",
            "Epoch 00050: val_loss did not improve from 1.99086\n",
            "57/57 [==============================] - 5s 86ms/step - loss: 1.2688 - val_loss: 1.9980\n"
          ]
        }
      ]
    },
    {
      "cell_type": "code",
      "source": [
        "#loading best model\n",
        "model = load_model('best_model.h5')"
      ],
      "metadata": {
        "id": "RdkZaibpdSrD"
      },
      "execution_count": 16,
      "outputs": []
    },
    {
      "cell_type": "markdown",
      "source": [
        "Generating own music using the model"
      ],
      "metadata": {
        "id": "lkgcMY7HHBXT"
      }
    },
    {
      "cell_type": "code",
      "source": [
        "ind = np.random.randint(0,len(x_val)-1)\n",
        "\n",
        "random_music = x_val[ind]\n",
        "\n",
        "predictions=[]\n",
        "for i in range(10):\n",
        "\n",
        "    random_music = random_music.reshape(1,no_of_timesteps)\n",
        "\n",
        "    prob  = model.predict(random_music)[0]\n",
        "    y_pred= np.argmax(prob,axis=0)\n",
        "    predictions.append(y_pred)\n",
        "\n",
        "    random_music = np.insert(random_music[0],len(random_music[0]),y_pred)\n",
        "    random_music = random_music[1:]\n",
        "    \n",
        "print(predictions)"
      ],
      "metadata": {
        "colab": {
          "base_uri": "https://localhost:8080/"
        },
        "id": "sJWWKCvsdngz",
        "outputId": "7afc4e91-aa95-4851-94d9-325c168d3f64"
      },
      "execution_count": 17,
      "outputs": [
        {
          "output_type": "stream",
          "name": "stdout",
          "text": [
            "[2, 48, 11, 2, 28, 6, 2, 48, 6, 2]\n"
          ]
        }
      ]
    },
    {
      "cell_type": "markdown",
      "source": [
        "Converting integers back to notes"
      ],
      "metadata": {
        "id": "6NSAKnRxHpSW"
      }
    },
    {
      "cell_type": "code",
      "source": [
        "x_int_to_note = dict((number, note_) for number, note_ in enumerate(unique_x)) \n",
        "predicted_notes = [x_int_to_note[i] for i in predictions]"
      ],
      "metadata": {
        "id": "pM0GKzBodsvo"
      },
      "execution_count": 18,
      "outputs": []
    },
    {
      "cell_type": "markdown",
      "source": [
        "Finally converting the notes back to midi file and downloading the generated music"
      ],
      "metadata": {
        "id": "HNm4c7aBHtgZ"
      }
    },
    {
      "cell_type": "code",
      "source": [
        "def convert_to_midi(prediction_output):\n",
        "   \n",
        "    offset = 0\n",
        "    output_notes = []\n",
        "\n",
        "    # create note and chord objects based on the values generated by the model\n",
        "    for pattern in prediction_output:\n",
        "        \n",
        "        # pattern is a chord\n",
        "        if ('.' in pattern) or pattern.isdigit():\n",
        "            notes_in_chord = pattern.split('.')\n",
        "            notes = []\n",
        "            for current_note in notes_in_chord:\n",
        "                \n",
        "                cn=int(current_note)\n",
        "                new_note = note.Note(cn)\n",
        "                new_note.storedInstrument = instrument.Piano()\n",
        "                notes.append(new_note)\n",
        "                \n",
        "            new_chord = chord.Chord(notes)\n",
        "            new_chord.offset = offset\n",
        "            output_notes.append(new_chord)\n",
        "            \n",
        "        # pattern is a note\n",
        "        else:\n",
        "            \n",
        "            new_note = note.Note(pattern)\n",
        "            new_note.offset = offset\n",
        "            new_note.storedInstrument = instrument.Piano()\n",
        "            output_notes.append(new_note)\n",
        "\n",
        "        # increase offset each iteration so that notes do not stack\n",
        "        offset += 1\n",
        "    midi_stream = stream.Stream(output_notes)\n",
        "    out_file = midi_stream.write('midi', fp='music.mid')\n",
        "    midi_stream.show('midi')"
      ],
      "metadata": {
        "id": "yRaKfJaAdzQh"
      },
      "execution_count": 23,
      "outputs": []
    },
    {
      "cell_type": "code",
      "source": [
        "convert_to_midi(predicted_notes)"
      ],
      "metadata": {
        "colab": {
          "base_uri": "https://localhost:8080/",
          "height": 17
        },
        "id": "z3NYglhKd33h",
        "outputId": "f594c091-2512-43ca-c09e-5adc3be6fae3"
      },
      "execution_count": 24,
      "outputs": [
        {
          "output_type": "display_data",
          "data": {
            "text/html": [
              "\n",
              "                <div id='midiPlayerDiv46873'></div>\n",
              "                <link rel=\"stylesheet\" href=\"//cuthbertLab.github.io/music21j/css/m21.css\"\n",
              "                    type=\"text/css\" />\n",
              "                <script>\n",
              "                require.config({\n",
              "                    paths: {'music21': '//cuthbertLab.github.io/music21j/src/music21'}\n",
              "                });\n",
              "                require(['music21'], function() {\n",
              "                               mp = new music21.miditools.MidiPlayer();\n",
              "                               mp.addPlayer('#midiPlayerDiv46873');\n",
              "                               mp.base64Load('data:audio/midi;base64,TVRoZAAAAAYAAQABBABNVHJrAAAAZwD/AwAA4ABAAJA5WogAgDkAAJA7WogAgDsAAJBDWogAgEMAAJA5WogAgDkAAJA6WogAgDoAAJBBWogAgEEAAJA5WogAgDkAAJA7WogAgDsAAJBBWogAgEEAAJA5WogAgDkAiAD/LwA=');\n",
              "                        });\n",
              "                </script>"
            ],
            "text/plain": [
              "<IPython.core.display.HTML object>"
            ]
          },
          "metadata": {}
        }
      ]
    }
  ]
}